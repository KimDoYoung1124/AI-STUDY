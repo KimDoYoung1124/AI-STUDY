{
  "nbformat": 4,
  "nbformat_minor": 0,
  "metadata": {
    "colab": {
      "name": "Matplotlib.ipynb",
      "provenance": [],
      "collapsed_sections": [],
      "authorship_tag": "ABX9TyPuuqnjksn0MoBiRvLvCXUB",
      "include_colab_link": true
    },
    "kernelspec": {
      "name": "python3",
      "display_name": "Python 3"
    },
    "language_info": {
      "name": "python"
    }
  },
  "cells": [
    {
      "cell_type": "markdown",
      "metadata": {
        "id": "view-in-github",
        "colab_type": "text"
      },
      "source": [
        "<a href=\"https://colab.research.google.com/github/KimDoYoung1124/AI-STUDY/blob/main/Matplotlib.ipynb\" target=\"_parent\"><img src=\"https://colab.research.google.com/assets/colab-badge.svg\" alt=\"Open In Colab\"/></a>"
      ]
    },
    {
      "cell_type": "markdown",
      "metadata": {
        "id": "TJ2i6GVnjqdJ"
      },
      "source": [
        "---\n",
        "# Matplotlib\n",
        "---\n",
        "주피터 노트북을 사용하는 경우에는 매직(magic) 명령으로 노트북 내부에 그림을 표시하도록 지정해야 한다.\n",
        "\n",
        "Ex) %matplotlib inline"
      ]
    },
    {
      "cell_type": "code",
      "metadata": {
        "id": "ZUGDmd3RfysH"
      },
      "source": [
        ""
      ],
      "execution_count": null,
      "outputs": []
    },
    {
      "cell_type": "markdown",
      "metadata": {
        "id": "qp0WyWe8jy6B"
      },
      "source": [
        "---\n",
        "1. 그리기\n",
        "1-1. 직선(line) 그리기\n",
        "---"
      ]
    },
    {
      "cell_type": "code",
      "metadata": {
        "colab": {
          "base_uri": "https://localhost:8080/",
          "height": 294
        },
        "id": "j8rEUZDbkLNL",
        "outputId": "aa634d68-1a0d-4fcd-da15-e9877f575a92"
      },
      "source": [
        "import matplotlib.pyplot as plt\n",
        "\n",
        "plt.title('line plot')\n",
        "plt.plot([10, 20, 30, 40], [1, 4, 9, 16], 'bo--')\n",
        "plt.xlabel('X')\n",
        "plt.ylabel('Y')\n",
        "plt.show()"
      ],
      "execution_count": 4,
      "outputs": [
        {
          "output_type": "display_data",
          "data": {
            "image/png": "[encoded data removed]",
            "text/plain": [
              "<Figure size 432x288 with 1 Axes>"
            ]
          },
          "metadata": {
            "needs_background": "light"
          }
        }
      ]
    },
    {
      "cell_type": "code",
      "metadata": {
        "id": "rL7RusjUl65x"
      },
      "source": [
        "r"
      ],
      "execution_count": null,
      "outputs": []
    },
    {
      "cell_type": "markdown",
      "metadata": {
        "id": "1EWpmphskM_l"
      },
      "source": [
        "밥그릇"
      ]
    },
    {
      "cell_type": "code",
      "metadata": {
        "id": "2syDlE-6j37l"
      },
      "source": [
        ""
      ],
      "execution_count": null,
      "outputs": []
    },
    {
      "cell_type": "markdown",
      "metadata": {
        "id": "SVqqlN9xkVAJ"
      },
      "source": [
        "직선과 밥그릇"
      ]
    },
    {
      "cell_type": "code",
      "metadata": {
        "id": "UF3zkUImkMWb"
      },
      "source": [
        "ㅠㅠ"
      ],
      "execution_count": null,
      "outputs": []
    },
    {
      "cell_type": "markdown",
      "metadata": {
        "id": "sySywxa2kZEr"
      },
      "source": [
        "그래프 여러개"
      ]
    },
    {
      "cell_type": "code",
      "metadata": {
        "id": "FSdb5l_BkYSe"
      },
      "source": [
        ""
      ],
      "execution_count": null,
      "outputs": []
    },
    {
      "cell_type": "code",
      "metadata": {
        "id": "iqh74zrbkT2e"
      },
      "source": [
        ""
      ],
      "execution_count": null,
      "outputs": []
    },
    {
      "cell_type": "markdown",
      "metadata": {
        "id": "cfX8efPdkcc4"
      },
      "source": [
        "바(막대) 그리기"
      ]
    },
    {
      "cell_type": "code",
      "metadata": {
        "id": "JpcI_fpikb1o"
      },
      "source": [
        ""
      ],
      "execution_count": null,
      "outputs": []
    },
    {
      "cell_type": "code",
      "metadata": {
        "id": "3ULajlASkrKe"
      },
      "source": [
        ""
      ],
      "execution_count": null,
      "outputs": []
    },
    {
      "cell_type": "markdown",
      "metadata": {
        "id": "oDyBC4w9ksX4"
      },
      "source": [
        "scatter 그리기"
      ]
    },
    {
      "cell_type": "code",
      "metadata": {
        "id": "rwI2cWAWkxy6"
      },
      "source": [
        ""
      ],
      "execution_count": null,
      "outputs": []
    },
    {
      "cell_type": "markdown",
      "metadata": {
        "id": "FutG5voTkBQT"
      },
      "source": [
        "저장"
      ]
    },
    {
      "cell_type": "code",
      "metadata": {
        "id": "4hYjPkOqj-Ap"
      },
      "source": [
        ""
      ],
      "execution_count": null,
      "outputs": []
    },
    {
      "cell_type": "code",
      "metadata": {
        "id": "E0Whvoayj-Pf"
      },
      "source": [
        ""
      ],
      "execution_count": null,
      "outputs": []
    },
    {
      "cell_type": "code",
      "metadata": {
        "id": "c6t992PZj-ZD"
      },
      "source": [
        ""
      ],
      "execution_count": null,
      "outputs": []
    },
    {
      "cell_type": "code",
      "metadata": {
        "id": "lCQie6gkkqOJ"
      },
      "source": [
        "ㅠ"
      ],
      "execution_count": null,
      "outputs": []
    }
  ]
}