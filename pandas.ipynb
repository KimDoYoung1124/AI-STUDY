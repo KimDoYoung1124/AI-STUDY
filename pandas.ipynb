{
  "nbformat": 4,
  "nbformat_minor": 0,
  "metadata": {
    "colab": {
      "name": "pandas.ipynb",
      "provenance": [],
      "collapsed_sections": [],
      "authorship_tag": "ABX9TyM3H2utC5HHW1i+OmjWWpeW",
      "include_colab_link": true
    },
    "kernelspec": {
      "name": "python3",
      "display_name": "Python 3"
    },
    "language_info": {
      "name": "python"
    }
  },
  "cells": [
    {
      "cell_type": "markdown",
      "metadata": {
        "id": "view-in-github",
        "colab_type": "text"
      },
      "source": [
        "<a href=\"https://colab.research.google.com/github/KimDoYoung1124/AI-STUDY/blob/main/pandas.ipynb\" target=\"_parent\"><img src=\"https://colab.research.google.com/assets/colab-badge.svg\" alt=\"Open In Colab\"/></a>"
      ]
    },
    {
      "cell_type": "markdown",
      "metadata": {
        "id": "058_RMMrMaxX"
      },
      "source": [
        "* 설치 : pip install pandas\n",
        "---\n",
        "* 생성\n",
        "  - Series : 인덱스와 값으로 구성\n",
        "    - 행인덱스 라벨\n",
        "  - DataFrame : 다수의 Series를 모아 처리 \n",
        "  - 관련함수 : rename"
      ]
    },
    {
      "cell_type": "code",
      "metadata": {
        "id": "Q6on5GxuLfQE"
      },
      "source": [
        ""
      ],
      "execution_count": null,
      "outputs": []
    },
    {
      "cell_type": "markdown",
      "metadata": {
        "id": "Z_mhKyTjOY1-"
      },
      "source": [
        "* 추가, 삭제, 변경\n",
        "  - add, drop, drop_duplicate, replace"
      ]
    },
    {
      "cell_type": "markdown",
      "metadata": {
        "id": "By7aKhD4RbJ9"
      },
      "source": [
        "* 초기화 관련 함수?"
      ]
    },
    {
      "cell_type": "markdown",
      "metadata": {
        "id": "ht1LQI6qNU-c"
      },
      "source": [
        "* 연산\n",
        "  - Series 연산 : Dict와 유사\n",
        "  - sort_values(정렬)"
      ]
    },
    {
      "cell_type": "markdown",
      "metadata": {
        "id": "WX7f3Zd5Nu-h"
      },
      "source": [
        "* 선택 및 탐색 : 슬라이싱, loc, 마스킹"
      ]
    },
    {
      "cell_type": "markdown",
      "metadata": {
        "id": "ISSgDbHtNyjR"
      },
      "source": [
        "* 브로드케스팅"
      ]
    },
    {
      "cell_type": "markdown",
      "metadata": {
        "id": "s1nXP6r_N-z4"
      },
      "source": [
        "* NaN, Null"
      ]
    },
    {
      "cell_type": "markdown",
      "metadata": {
        "id": "iR28vN20OsOi"
      },
      "source": [
        "* 함수 1 \n",
        "  - mean(평균), count(결측값 제외), sum, std(표준편차), var(분산), median(중앙값), min, max, groupby, aggregate, filter, get_group, apply\n",
        "  - pivot_table"
      ]
    },
    {
      "cell_type": "markdown",
      "metadata": {
        "id": "eolM0sokOc7d"
      },
      "source": [
        "* 함수\n",
        "  - head, tail, sample, info, describe, isna, corr"
      ]
    },
    {
      "cell_type": "markdown",
      "metadata": {
        "id": "8kaLvvA8PTe8"
      },
      "source": [
        "* map, apply"
      ]
    },
    {
      "cell_type": "markdown",
      "metadata": {
        "id": "jin3sNGBQRWd"
      },
      "source": [
        "* 저장, 불러오기"
      ]
    }
  ]
}