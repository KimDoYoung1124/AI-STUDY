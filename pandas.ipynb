{
  "nbformat": 4,
  "nbformat_minor": 0,
  "metadata": {
    "colab": {
      "name": "pandas.ipynb",
      "provenance": [],
      "collapsed_sections": [],
      "authorship_tag": "ABX9TyMMlhkT9Wox44MTqgba6hc3",
      "include_colab_link": true
    },
    "kernelspec": {
      "name": "python3",
      "display_name": "Python 3"
    },
    "language_info": {
      "name": "python"
    }
  },
  "cells": [
    {
      "cell_type": "markdown",
      "metadata": {
        "id": "view-in-github",
        "colab_type": "text"
      },
      "source": [
        "<a href=\"https://colab.research.google.com/github/KimDoYoung1124/AI-STUDY/blob/main/pandas.ipynb\" target=\"_parent\"><img src=\"https://colab.research.google.com/assets/colab-badge.svg\" alt=\"Open In Colab\"/></a>"
      ]
    },
    {
      "cell_type": "markdown",
      "metadata": {
        "id": "058_RMMrMaxX"
      },
      "source": [
        "* 설치 : pip install pandas\n",
        "---\n",
        "* 생성\n",
        "  - Series : 인덱스와 값으로 구성, 행인덱스 라벨\n",
        "      - 리스트로 생성, Dict를 변환\n",
        "  - DataFrame : 다수의 Series를 모아 처리 \n",
        "  - 관련함수 : rename, set_index, reset_index, name, index.name\n",
        "---"
      ]
    },
    {
      "cell_type": "code",
      "metadata": {
        "id": "Q6on5GxuLfQE",
        "colab": {
          "base_uri": "https://localhost:8080/"
        },
        "outputId": "a0b770f9-fca5-4291-cbca-a067a2f4e335"
      },
      "source": [
        "# Series 생성\n",
        "import pandas as pd\n",
        "\n",
        "# - 리스트로(index는 옵션)\n",
        "s = pd.Series([9679771, 3395514, 2942307, 2421859], index=['서울', '부산', '인천', '대구'])\n",
        "print(s)\n",
        "print(s.index)\n",
        "print(s.values)\n",
        "\n",
        "#  - Dict를 변환\n",
        "d = {'서울':'특별시',\n",
        "     '부산':'광역시',\n",
        "     '인천':'광역시',\n",
        "     '대구':'광역시'\n",
        "     }\n",
        "t = pd.Series(d)\n",
        "print('==========================================')\n",
        "print(t)\n",
        "print(t.index)\n",
        "print(t.values)"
      ],
      "execution_count": 1,
      "outputs": [
        {
          "output_type": "stream",
          "text": [
            "서울    9679771\n",
            "부산    3395514\n",
            "인천    2942307\n",
            "대구    2421859\n",
            "dtype: int64\n",
            "Index(['서울', '부산', '인천', '대구'], dtype='object')\n",
            "[9679771 3395514 2942307 2421859]\n",
            "==========================================\n",
            "서울    특별시\n",
            "부산    광역시\n",
            "인천    광역시\n",
            "대구    광역시\n",
            "dtype: object\n",
            "Index(['서울', '부산', '인천', '대구'], dtype='object')\n",
            "['특별시' '광역시' '광역시' '광역시']\n"
          ],
          "name": "stdout"
        }
      ]
    },
    {
      "cell_type": "code",
      "metadata": {
        "colab": {
          "base_uri": "https://localhost:8080/"
        },
        "id": "YOABg5kvr6z4",
        "outputId": "378be2a2-ccf3-46f1-b07e-f1f47e2a1260"
      },
      "source": [
        "# DataFrame 생성\n",
        "import numpy as np\n",
        "\n",
        "df = pd.DataFrame(data=np.array([[1,2,3],[4,5,6],[7,8,9]]), \n",
        "                  index=[2,'A',4], columns=[48, 49, 50])\n",
        "print(df)\n",
        "print('============ df.loc[\\'A\\']) ==================')\n",
        "print(df.loc['A'])\n",
        "print('============= df.iloc[2] ===================')\n",
        "print(df.iloc[2])\n",
        "print(type(df.iloc[2]))"
      ],
      "execution_count": 11,
      "outputs": [
        {
          "output_type": "stream",
          "text": [
            "   48  49  50\n",
            "2   1   2   3\n",
            "A   4   5   6\n",
            "4   7   8   9\n",
            "============ df.loc['A']) ==================\n",
            "48    4\n",
            "49    5\n",
            "50    6\n",
            "Name: A, dtype: int64\n",
            "============= df.iloc[2] ===================\n",
            "48    7\n",
            "49    8\n",
            "50    9\n",
            "Name: 4, dtype: int64\n",
            "<class 'pandas.core.series.Series'>\n"
          ],
          "name": "stdout"
        }
      ]
    },
    {
      "cell_type": "code",
      "metadata": {
        "colab": {
          "base_uri": "https://localhost:8080/"
        },
        "id": "xmqRG4lutPG1",
        "outputId": "98cff651-bbab-466e-94bb-f68fdd698aa2"
      },
      "source": [
        "# Series를 DataFrame으로\n",
        "a = pd.DataFrame(df.iloc[2])\n",
        "print(a)\n",
        "print(type(a))"
      ],
      "execution_count": 14,
      "outputs": [
        {
          "output_type": "stream",
          "text": [
            "    4\n",
            "48  7\n",
            "49  8\n",
            "50  9\n",
            "<class 'pandas.core.frame.DataFrame'>\n"
          ],
          "name": "stdout"
        }
      ]
    },
    {
      "cell_type": "code",
      "metadata": {
        "id": "QrbhmEFZc03e"
      },
      "source": [
        "# 이름부여 : name, index.name\n",
        "s.name = '인구'\n",
        "s.index.name = '도시'\n",
        "#s.columns.name = '도시별 인구'\n"
      ],
      "execution_count": null,
      "outputs": []
    },
    {
      "cell_type": "markdown",
      "metadata": {
        "id": "Z_mhKyTjOY1-"
      },
      "source": [
        "---\n",
        "* 추가, 삭제, 변경\n",
        "  - name, index.name, add, drop, drop_duplicate, replace\n",
        "---  "
      ]
    },
    {
      "cell_type": "code",
      "metadata": {
        "colab": {
          "base_uri": "https://localhost:8080/"
        },
        "id": "L247REqxmulg",
        "outputId": "692b22f0-3740-4a6d-b99f-d30d86408724"
      },
      "source": [
        "print(s)\n",
        "print('======================')\n",
        "print(t)\n",
        "\n"
      ],
      "execution_count": null,
      "outputs": [
        {
          "output_type": "stream",
          "text": [
            "서울    9679771\n",
            "부산    3395514\n",
            "인천    2942307\n",
            "대구    2421859\n",
            "dtype: int64\n",
            "======================\n",
            "서울    특별시\n",
            "부산    광역시\n",
            "인천    광역시\n",
            "대구    광역시\n",
            "dtype: object\n"
          ],
          "name": "stdout"
        }
      ]
    },
    {
      "cell_type": "code",
      "metadata": {
        "colab": {
          "base_uri": "https://localhost:8080/"
        },
        "id": "yswCEcnWUnWd",
        "outputId": "e25c8844-cd99-4822-ba2e-df0f1facf3e8"
      },
      "source": [
        "# Series 합치기\n",
        "all = pd.concat([s, t], axis=1) # 행\n",
        "print(all)\n",
        "\n",
        "allc = pd.concat([s, t])  # 열, axis = 0 이 디폴트\n",
        "print('======================')\n",
        "allc"
      ],
      "execution_count": null,
      "outputs": [
        {
          "output_type": "stream",
          "text": [
            "          0    1\n",
            "서울  9679771  특별시\n",
            "부산  3395514  광역시\n",
            "인천  2942307  광역시\n",
            "대구  2421859  광역시\n",
            "======================\n"
          ],
          "name": "stdout"
        },
        {
          "output_type": "execute_result",
          "data": {
            "text/plain": [
              "서울    9679771\n",
              "부산    3395514\n",
              "인천    2942307\n",
              "대구    2421859\n",
              "서울        특별시\n",
              "부산        광역시\n",
              "인천        광역시\n",
              "대구        광역시\n",
              "dtype: object"
            ]
          },
          "metadata": {
            "tags": []
          },
          "execution_count": 65
        }
      ]
    },
    {
      "cell_type": "markdown",
      "metadata": {
        "id": "By7aKhD4RbJ9"
      },
      "source": [
        "* 초기화 관련 함수?"
      ]
    },
    {
      "cell_type": "markdown",
      "metadata": {
        "id": "ht1LQI6qNU-c"
      },
      "source": [
        "* 연산\n",
        "  - Series 연산 : Dict와 유사\n",
        "  - sort_values(정렬)"
      ]
    },
    {
      "cell_type": "code",
      "metadata": {
        "colab": {
          "base_uri": "https://localhost:8080/"
        },
        "id": "AKdJZ05KVeBK",
        "outputId": "5a9316fc-8cb0-47f9-c96e-b1f1f18ab8a5"
      },
      "source": [
        "s = s/100\n",
        "s"
      ],
      "execution_count": null,
      "outputs": [
        {
          "output_type": "execute_result",
          "data": {
            "text/plain": [
              "도시\n",
              "0    10.0\n",
              "1     5.0\n",
              "2     5.5\n",
              "3     2.7\n",
              "Name: 인구, dtype: float64"
            ]
          },
          "metadata": {
            "tags": []
          },
          "execution_count": 6
        }
      ]
    },
    {
      "cell_type": "markdown",
      "metadata": {
        "id": "WX7f3Zd5Nu-h"
      },
      "source": [
        "* 선택 및 탐색 : 슬라이싱, iloc, loc, 마스킹, items"
      ]
    },
    {
      "cell_type": "code",
      "metadata": {
        "colab": {
          "base_uri": "https://localhost:8080/"
        },
        "id": "n0OzR1SSVnO1",
        "outputId": "797c9333-57a0-45fe-97dc-46999974e50f"
      },
      "source": [
        "s[1:3]"
      ],
      "execution_count": null,
      "outputs": [
        {
          "output_type": "execute_result",
          "data": {
            "text/plain": [
              "도시\n",
              "1    5.0\n",
              "2    5.5\n",
              "Name: 인구, dtype: float64"
            ]
          },
          "metadata": {
            "tags": []
          },
          "execution_count": 7
        }
      ]
    },
    {
      "cell_type": "markdown",
      "metadata": {
        "id": "ISSgDbHtNyjR"
      },
      "source": [
        "* 브로드케스팅"
      ]
    },
    {
      "cell_type": "markdown",
      "metadata": {
        "id": "s1nXP6r_N-z4"
      },
      "source": [
        "* NaN, Null"
      ]
    },
    {
      "cell_type": "markdown",
      "metadata": {
        "id": "iR28vN20OsOi"
      },
      "source": [
        "* 함수 1 \n",
        "  - mean(평균), count(결측값 제외), sum, std(표준편차), var(분산), median(중앙값), min, max, groupby, aggregate, filter, get_group, apply\n",
        "  - pivot_table"
      ]
    },
    {
      "cell_type": "code",
      "metadata": {
        "id": "49splzDwZqVv"
      },
      "source": [
        ""
      ],
      "execution_count": null,
      "outputs": []
    },
    {
      "cell_type": "markdown",
      "metadata": {
        "id": "eolM0sokOc7d"
      },
      "source": [
        "* 함수\n",
        "  - head, tail, sample, info, describe, isna, corr"
      ]
    },
    {
      "cell_type": "markdown",
      "metadata": {
        "id": "vwaA8fj8ZvPg"
      },
      "source": [
        "* map, apply"
      ]
    },
    {
      "cell_type": "markdown",
      "metadata": {
        "id": "jin3sNGBQRWd"
      },
      "source": [
        "* 저장, 불러오기"
      ]
    }
  ]
}