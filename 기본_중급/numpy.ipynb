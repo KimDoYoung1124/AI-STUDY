{
  "nbformat": 4,
  "nbformat_minor": 0,
  "metadata": {
    "colab": {
      "name": "numpy.ipynb",
      "provenance": [],
      "collapsed_sections": [],
      "include_colab_link": true
    },
    "kernelspec": {
      "name": "python3",
      "display_name": "Python 3"
    },
    "language_info": {
      "name": "python"
    }
  },
  "cells": [
    {
      "cell_type": "markdown",
      "metadata": {
        "id": "view-in-github",
        "colab_type": "text"
      },
      "source": [
        "<a href=\"https://colab.research.google.com/github/KimDoYoung1124/AI-STUDY/blob/main/%EA%B8%B0%EB%B3%B8_%EC%A4%91%EA%B8%89/numpy.ipynb\" target=\"_parent\"><img src=\"https://colab.research.google.com/assets/colab-badge.svg\" alt=\"Open In Colab\"/></a>"
      ]
    },
    {
      "cell_type": "markdown",
      "metadata": {
        "id": "4Td2YqWVgNxA"
      },
      "source": [
        "배열생성하기"
      ]
    },
    {
      "cell_type": "code",
      "metadata": {
        "colab": {
          "base_uri": "https://localhost:8080/"
        },
        "id": "zT-GwYP1eht4",
        "outputId": "e6cae8ad-eb50-468d-ae11-027725f9909c"
      },
      "source": [
        "import numpy as np\n",
        "\n",
        "list1 = [1, 2, 3]\n",
        "a = np.array(list1)\n",
        "print(a.shape) # (3, )\n",
        "\n",
        "\n",
        "print(type(a))\n",
        "# (3)과 (3,)는 다름\n",
        "print(type((3,1)))\n",
        "print(type(3))"
      ],
      "execution_count": null,
      "outputs": [
        {
          "output_type": "stream",
          "text": [
            "(3,)\n",
            "<class 'numpy.ndarray'>\n",
            "<class 'tuple'>\n",
            "<class 'int'>\n"
          ],
          "name": "stdout"
        }
      ]
    },
    {
      "cell_type": "code",
      "metadata": {
        "colab": {
          "base_uri": "https://localhost:8080/"
        },
        "id": "nIDh8HdXej9Q",
        "outputId": "5a794f91-33b9-4cac-b59b-141223e5b3d9"
      },
      "source": [
        "a.shape"
      ],
      "execution_count": null,
      "outputs": [
        {
          "output_type": "execute_result",
          "data": {
            "text/plain": [
              "(3,)"
            ]
          },
          "metadata": {
            "tags": []
          },
          "execution_count": 17
        }
      ]
    },
    {
      "cell_type": "markdown",
      "metadata": {
        "id": "Fy4koKQaiRRn"
      },
      "source": [
        "슬라이싱"
      ]
    },
    {
      "cell_type": "code",
      "metadata": {
        "colab": {
          "base_uri": "https://localhost:8080/"
        },
        "id": "wByKAQl_h3GX",
        "outputId": "00a5ff28-a725-40ca-98ed-9a23118f2df7"
      },
      "source": [
        "lst = [[1, 2, 3],\n",
        "       [4, 5, 6],\n",
        "       [7, 8, 9]]\n",
        "arr = np.array(lst)\n",
        "a = arr[0:2, 0:2] # 슬라이스\n",
        "print(a)"
      ],
      "execution_count": null,
      "outputs": [
        {
          "output_type": "stream",
          "text": [
            "[[1 2]\n",
            " [4 5]]\n"
          ],
          "name": "stdout"
        }
      ]
    },
    {
      "cell_type": "markdown",
      "metadata": {
        "id": "fp6OtiRNiQHg"
      },
      "source": [
        ""
      ]
    }
  ]
}